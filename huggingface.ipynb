{
 "cells": [
  {
   "cell_type": "code",
   "execution_count": 2,
   "metadata": {},
   "outputs": [
    {
     "data": {
      "text/plain": [
       "'\\nA tomato is a fruit that is typically red, round, and has a juicy flesh inside. It is often used in cooking and can be eaten raw or cooked.'"
      ]
     },
     "execution_count": 2,
     "metadata": {},
     "output_type": "execute_result"
    }
   ],
   "source": [
    "from langchain.llms.gpt4all import GPT4All\n",
    "from langchain.prompts import PromptTemplate\n",
    "\n",
    "prompt = PromptTemplate.from_template(\n",
    "    \"You are a helpful assistant that defines words. Define this word : {word}.\"\n",
    ")\n",
    "\n",
    "llm = GPT4All(\n",
    "    model=\"./files/gpt4all-falcon-q4_0.gguf\"\n",
    ")\n",
    "\n",
    "chain = prompt | llm\n",
    "\n",
    "chain.invoke({\n",
    "    \"word\" : \"tomato\"\n",
    "})"
   ]
  },
  {
   "cell_type": "code",
   "execution_count": 6,
   "metadata": {},
   "outputs": [
    {
     "name": "stdout",
     "output_type": "stream",
     "text": [
      "<Response [400]>\n"
     ]
    }
   ],
   "source": [
    "import requests\n",
    " \n",
    "# 로그인 URL\n",
    "login_url = 'https://ai.matamath.net/api/v5/auth/login'\n",
    "# 사용자 이름과 비밀번호\n",
    "payload = {\n",
    "    'id': '',\n",
    "    'password': '',\n",
    "    'org' : ''\n",
    "}\n",
    " \n",
    "# 세션 시작\n",
    "with requests.Session() as session:\n",
    "    # 로그인\n",
    "    response = session.post(login_url, data=payload)\n",
    "\n",
    "    print(response)\n",
    " \n",
    "    # 이제 세션 객체를 사용하여 로그인 상태를 유지하면서 다른 페이지에 접근\n",
    "    # response = session.get('https://ai.matamath.net/vitruv.hs/teacher/curriculum/one?curriculumSetId=6&curriculumSetName=%EB%A7%88%ED%83%80%EC%99%80%20%EC%97%B0%EC%82%B0%ED%95%99%EC%8A%B5')\n",
    "    # print(response.text)"
   ]
  }
 ],
 "metadata": {
  "kernelspec": {
   "display_name": "env",
   "language": "python",
   "name": "python3"
  },
  "language_info": {
   "codemirror_mode": {
    "name": "ipython",
    "version": 3
   },
   "file_extension": ".py",
   "mimetype": "text/x-python",
   "name": "python",
   "nbconvert_exporter": "python",
   "pygments_lexer": "ipython3",
   "version": "3.11.6"
  }
 },
 "nbformat": 4,
 "nbformat_minor": 2
}
