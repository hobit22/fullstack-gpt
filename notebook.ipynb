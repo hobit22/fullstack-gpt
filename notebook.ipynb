{
 "cells": [
  {
   "cell_type": "code",
   "execution_count": 2,
   "metadata": {},
   "outputs": [
    {
     "name": "stdout",
     "output_type": "stream",
     "text": [
      "Soju is a traditional Korean distilled alcoholic beverage. Here is a simple recipe to make soju at home:\n",
      "\n",
      "Ingredients:\n",
      "- 1 cup of rice\n",
      "- 1 cup of nuruk (Korean fermentation starter)\n",
      "- 8 cups of water\n",
      "- 1 tablespoon of yeast\n",
      "- 1 cup of sugar\n",
      "\n",
      "Instructions:\n",
      "1. Rinse the rice thoroughly and soak it in water for about an hour.\n",
      "2. Drain the rice and steam it until fully cooked.\n",
      "3. Allow the cooked rice to cool down to room temperature.\n",
      "4. In a large pot, combine the cooled rice, nuruk, and water.\n",
      "5. Mix well and cover the pot with a clean cloth or plastic wrap.\n",
      "6. Let the mixture ferment for about 5-7 days at room temperature.\n",
      "7. After fermentation, strain the mixture to remove any solids.\n",
      "8. Dissolve yeast in a small amount of warm water and add it to the strained liquid.\n",
      "9. Stir in the sugar until fully dissolved.\n",
      "10. Transfer the mixture to airtight containers or bottles and seal them tightly.\n",
      "11. Store the containers in a cool and dark place for about 2-3 weeks to allow further fermentation.\n",
      "12. After the fermentation process is complete, the soju is ready to be enjoyed.\n",
      "\n",
      "Please note that making soju at home requires proper equipment and knowledge of the fermentation process. It is recommended to research and follow safety guidelines to ensure a successful and safe fermentation. The recipe for beer typically involves the following ingredients and steps:\n",
      "\n",
      "Ingredients:\n",
      "1. Malted grains (such as barley, wheat, or rye)\n",
      "2. Water\n",
      "3. Hops\n",
      "4. Yeast\n",
      "\n",
      "Steps:\n",
      "1. Malting: The grains are soaked in water and allowed to germinate. They are then dried and crushed to create malted grains.\n",
      "\n",
      "2. Mashing: The malted grains are mixed with hot water in a process called mashing. This converts the starches in the grains into fermentable sugars.\n",
      "\n",
      "3. Lautering: The liquid portion of the mash, known as wort, is separated from the solid grains through a process called lautering.\n",
      "\n",
      "4. Boiling: The wort is then boiled, and hops are added. Hops provide bitterness, flavor, and aroma to the beer.\n",
      "\n",
      "5. Cooling: After boiling, the wort is rapidly cooled to a temperature suitable for yeast fermentation.\n",
      "\n",
      "6. Fermentation: The cooled wort is transferred to a fermentation vessel, and yeast is added. The yeast consumes the sugars in the wort and produces alcohol and carbon dioxide. This process typically takes a few days to several weeks, depending on the type of beer.\n",
      "\n",
      "7. Conditioning: After fermentation, the beer is conditioned, which involves allowing it to mature and develop flavors. This can be done in the fermentation vessel or transferred to another vessel.\n",
      "\n",
      "8. Carbonation: If desired, carbonation can be added to the beer. This can be achieved naturally through a secondary fermentation in a sealed container or by force carbonation using carbon dioxide.\n",
      "\n",
      "9. Packaging: Finally, the beer is packaged into bottles, cans, or kegs for consumption.\n",
      "\n",
      "It's important to note that there are various styles and variations of beer, each with its own specific ingredients and techniques. The above steps provide a general overview of the beer-making process. \n",
      "\n",
      "Tokens Used: 704\n",
      "\tPrompt Tokens: 29\n",
      "\tCompletion Tokens: 675\n",
      "Successful Requests: 2\n",
      "Total Cost (USD): $0.0013934999999999998\n"
     ]
    }
   ],
   "source": [
    "from langchain.chat_models import ChatOpenAI\n",
    "from langchain.callbacks import get_openai_callback\n",
    "\n",
    "chat = ChatOpenAI(\n",
    "    temperature=0.1,\n",
    "    # streaming=True,\n",
    "    # callbacks=[\n",
    "    #     StreamingStdOutCallbackHandler(),\n",
    "    # ],\n",
    ")\n",
    "\n",
    "with get_openai_callback() as usage:\n",
    "    a = chat.predict(\"What is the recipe for soju?\")\n",
    "    b = chat.predict(\"What is the recipe for beer?\")\n",
    "    print(a,b, \"\\n\")\n",
    "    print(usa)"
   ]
  }
 ],
 "metadata": {
  "kernelspec": {
   "display_name": "env",
   "language": "python",
   "name": "python3"
  },
  "language_info": {
   "codemirror_mode": {
    "name": "ipython",
    "version": 3
   },
   "file_extension": ".py",
   "mimetype": "text/x-python",
   "name": "python",
   "nbconvert_exporter": "python",
   "pygments_lexer": "ipython3",
   "version": "3.11.6"
  }
 },
 "nbformat": 4,
 "nbformat_minor": 2
}
