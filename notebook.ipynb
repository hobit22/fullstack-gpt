{
 "cells": [
  {
   "cell_type": "code",
   "execution_count": 40,
   "metadata": {},
   "outputs": [],
   "source": [
    "from langchain.chat_models import ChatOpenAI\n",
    "from langchain.prompts import ChatPromptTemplate\n",
    "from langchain.callbacks import StreamingStdOutCallbackHandler\n",
    "\n",
    "chat = ChatOpenAI(\n",
    "    temperature=0.1,\n",
    "    streaming=True,\n",
    "    callbacks=[\n",
    "        StreamingStdOutCallbackHandler(),\n",
    "    ],\n",
    ")\n",
    "\n",
    "chef_prompt = ChatPromptTemplate.from_messages(\n",
    "    [\n",
    "        (\n",
    "            \"system\",\n",
    "            \"\",\n",
    "        ),\n",
    "        (\"human\", \"I want to cook {cuisine} food.\"),\n",
    "    ]\n",
    ")\n",
    "\n",
    "chef_chain = chef_prompt | chat"
   ]
  },
  {
   "cell_type": "code",
   "execution_count": 41,
   "metadata": {},
   "outputs": [
    {
     "name": "stdout",
     "output_type": "stream",
     "text": [
      "That's great! Indian cuisine is known for its rich flavors and diverse range of dishes. Here's a simple recipe for a popular Indian dish called Butter Chicken:\n",
      "\n",
      "Ingredients:\n",
      "- 500g boneless chicken, cut into pieces\n",
      "- 2 tablespoons butter\n",
      "- 1 onion, finely chopped\n",
      "- 2 cloves of garlic, minced\n",
      "- 1-inch piece of ginger, grated\n",
      "- 2 tomatoes, pureed\n",
      "- 2 tablespoons tomato paste\n",
      "- 1 teaspoon red chili powder\n",
      "- 1 teaspoon turmeric powder\n",
      "- 1 teaspoon garam masala\n",
      "- 1 teaspoon dried fenugreek leaves (kasuri methi)\n",
      "- 1/2 cup heavy cream\n",
      "- Salt to taste\n",
      "- Fresh cilantro leaves for garnish\n",
      "\n",
      "Instructions:\n",
      "1. Heat the butter in a large pan over medium heat. Add the chopped onions and sauté until they turn golden brown.\n",
      "2. Add the minced garlic and grated ginger to the pan and cook for another minute.\n",
      "3. Add the tomato puree and tomato paste to the pan and cook for 2-3 minutes, stirring occasionally.\n",
      "4. Add the red chili powder, turmeric powder, garam masala, and salt to the pan. Mix well and cook for another 2 minutes.\n",
      "5. Add the chicken pieces to the pan and coat them well with the sauce. Cook for about 10 minutes or until the chicken is cooked through.\n",
      "6. Crush the dried fenugreek leaves between your palms and add them to the pan. Mix well.\n",
      "7. Reduce the heat to low and stir in the heavy cream. Simmer for another 5 minutes.\n",
      "8. Garnish with fresh cilantro leaves and serve hot with naan bread or steamed rice.\n",
      "\n",
      "Enjoy your homemade Butter Chicken!Here's a vegetarian alternative for the Butter Chicken recipe:\n",
      "\n",
      "Ingredients:\n",
      "- 500g tofu or paneer, cut into pieces\n",
      "- 2 tablespoons butter or vegetable oil\n",
      "- 1 onion, finely chopped\n",
      "- 2 cloves of garlic, minced\n",
      "- 1-inch piece of ginger, grated\n",
      "- 2 tomatoes, pureed\n",
      "- 2 tablespoons tomato paste\n",
      "- 1 teaspoon red chili powder\n",
      "- 1 teaspoon turmeric powder\n",
      "- 1 teaspoon garam masala\n",
      "- 1 teaspoon dried fenugreek leaves (kasuri methi)\n",
      "- 1/2 cup heavy cream or coconut cream\n",
      "- Salt to taste\n",
      "- Fresh cilantro leaves for garnish\n",
      "\n",
      "Instructions:\n",
      "1. Heat the butter or vegetable oil in a large pan over medium heat. Add the chopped onions and sauté until they turn golden brown.\n",
      "2. Add the minced garlic and grated ginger to the pan and cook for another minute.\n",
      "3. Add the tomato puree and tomato paste to the pan and cook for 2-3 minutes, stirring occasionally.\n",
      "4. Add the red chili powder, turmeric powder, garam masala, and salt to the pan. Mix well and cook for another 2 minutes.\n",
      "5. Add the tofu or paneer pieces to the pan and coat them well with the sauce. Cook for about 10 minutes or until the tofu or paneer is heated through.\n",
      "6. Crush the dried fenugreek leaves between your palms and add them to the pan. Mix well.\n",
      "7. Reduce the heat to low and stir in the heavy cream or coconut cream. Simmer for another 5 minutes.\n",
      "8. Garnish with fresh cilantro leaves and serve hot with naan bread or steamed rice.\n",
      "\n",
      "Enjoy your vegetarian Butter Chicken!"
     ]
    },
    {
     "data": {
      "text/plain": [
       "AIMessageChunk(content=\"Here's a vegetarian alternative for the Butter Chicken recipe:\\n\\nIngredients:\\n- 500g tofu or paneer, cut into pieces\\n- 2 tablespoons butter or vegetable oil\\n- 1 onion, finely chopped\\n- 2 cloves of garlic, minced\\n- 1-inch piece of ginger, grated\\n- 2 tomatoes, pureed\\n- 2 tablespoons tomato paste\\n- 1 teaspoon red chili powder\\n- 1 teaspoon turmeric powder\\n- 1 teaspoon garam masala\\n- 1 teaspoon dried fenugreek leaves (kasuri methi)\\n- 1/2 cup heavy cream or coconut cream\\n- Salt to taste\\n- Fresh cilantro leaves for garnish\\n\\nInstructions:\\n1. Heat the butter or vegetable oil in a large pan over medium heat. Add the chopped onions and sauté until they turn golden brown.\\n2. Add the minced garlic and grated ginger to the pan and cook for another minute.\\n3. Add the tomato puree and tomato paste to the pan and cook for 2-3 minutes, stirring occasionally.\\n4. Add the red chili powder, turmeric powder, garam masala, and salt to the pan. Mix well and cook for another 2 minutes.\\n5. Add the tofu or paneer pieces to the pan and coat them well with the sauce. Cook for about 10 minutes or until the tofu or paneer is heated through.\\n6. Crush the dried fenugreek leaves between your palms and add them to the pan. Mix well.\\n7. Reduce the heat to low and stir in the heavy cream or coconut cream. Simmer for another 5 minutes.\\n8. Garnish with fresh cilantro leaves and serve hot with naan bread or steamed rice.\\n\\nEnjoy your vegetarian Butter Chicken!\")"
      ]
     },
     "execution_count": 41,
     "metadata": {},
     "output_type": "execute_result"
    }
   ],
   "source": [
    "veg_chef_prompt = ChatPromptTemplate.from_messages(\n",
    "    [\n",
    "        (\n",
    "            \"system\",\n",
    "            \"You are a vegetarian chef specialized on making traditional recipies vegetarian. You find alternative ingredients and explain their preparation. You don't radically modify the recipe. If there is no alternative for a food just say you don't know how to replace it.\",\n",
    "        ),\n",
    "        (\"human\", \"{recipe}\"),\n",
    "    ]\n",
    ")\n",
    "\n",
    "\n",
    "veg_chain = veg_chef_prompt | chat\n",
    "\n",
    "\n",
    "final_chain = {\"recipe\": chef_chain} | veg_chain\n",
    "\n",
    "final_chain.invoke({\"cuisine\": \"indian\"})\n"
   ]
  }
 ],
 "metadata": {
  "kernelspec": {
   "display_name": "env",
   "language": "python",
   "name": "python3"
  },
  "language_info": {
   "codemirror_mode": {
    "name": "ipython",
    "version": 3
   },
   "file_extension": ".py",
   "mimetype": "text/x-python",
   "name": "python",
   "nbconvert_exporter": "python",
   "pygments_lexer": "ipython3",
   "version": "3.11.6"
  }
 },
 "nbformat": 4,
 "nbformat_minor": 2
}
