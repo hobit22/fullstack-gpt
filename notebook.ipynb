{
 "cells": [
  {
   "cell_type": "code",
   "execution_count": 55,
   "metadata": {},
   "outputs": [
    {
     "name": "stdout",
     "output_type": "stream",
     "text": [
      "\u001b[32;1m\u001b[1;3m[llm/start]\u001b[0m \u001b[1m[1:llm:ChatOpenAI] Entering LLM run with input:\n",
      "\u001b[0m{\n",
      "  \"prompts\": [\n",
      "    \"Human: How do make Italian pasta?\"\n",
      "  ]\n",
      "}\n",
      "\u001b[36;1m\u001b[1;3m[llm/end]\u001b[0m \u001b[1m[1:llm:ChatOpenAI] [24.38s] Exiting LLM run with output:\n",
      "\u001b[0m{\n",
      "  \"generations\": [\n",
      "    [\n",
      "      {\n",
      "        \"text\": \"To make Italian pasta, follow these steps:\\n\\n1. Start by boiling a large pot of water. Add salt to the water to enhance the flavor of the pasta.\\n\\n2. Once the water is boiling, add the pasta to the pot. The amount of pasta depends on how many servings you want to make. Generally, 2 ounces (56 grams) of dried pasta per person is a good estimate.\\n\\n3. Cook the pasta according to the package instructions. Different types of pasta have different cooking times, so make sure to check the package for the recommended cooking time. Stir occasionally to prevent the pasta from sticking together.\\n\\n4. While the pasta is cooking, prepare the sauce. Italian pasta can be served with various sauces like tomato-based sauces, cream-based sauces, or olive oil-based sauces. Choose your preferred sauce and prepare it separately.\\n\\n5. Once the pasta is cooked al dente (cooked but still firm to the bite), drain it in a colander. Reserve a small amount of the pasta water, as it can be used to adjust the consistency of the sauce later.\\n\\n6. Transfer the drained pasta back to the pot and add the prepared sauce. Mix well, ensuring that the pasta is evenly coated with the sauce. If the sauce is too thick, add a little bit of the reserved pasta water to thin it out.\\n\\n7. Serve the Italian pasta hot. You can garnish it with grated Parmesan cheese, fresh herbs, or a drizzle of olive oil, depending on your preference.\\n\\nEnjoy your homemade Italian pasta!\",\n",
      "        \"generation_info\": {\n",
      "          \"finish_reason\": \"stop\"\n",
      "        },\n",
      "        \"type\": \"ChatGeneration\",\n",
      "        \"message\": {\n",
      "          \"lc\": 1,\n",
      "          \"type\": \"constructor\",\n",
      "          \"id\": [\n",
      "            \"langchain\",\n",
      "            \"schema\",\n",
      "            \"messages\",\n",
      "            \"AIMessage\"\n",
      "          ],\n",
      "          \"kwargs\": {\n",
      "            \"content\": \"To make Italian pasta, follow these steps:\\n\\n1. Start by boiling a large pot of water. Add salt to the water to enhance the flavor of the pasta.\\n\\n2. Once the water is boiling, add the pasta to the pot. The amount of pasta depends on how many servings you want to make. Generally, 2 ounces (56 grams) of dried pasta per person is a good estimate.\\n\\n3. Cook the pasta according to the package instructions. Different types of pasta have different cooking times, so make sure to check the package for the recommended cooking time. Stir occasionally to prevent the pasta from sticking together.\\n\\n4. While the pasta is cooking, prepare the sauce. Italian pasta can be served with various sauces like tomato-based sauces, cream-based sauces, or olive oil-based sauces. Choose your preferred sauce and prepare it separately.\\n\\n5. Once the pasta is cooked al dente (cooked but still firm to the bite), drain it in a colander. Reserve a small amount of the pasta water, as it can be used to adjust the consistency of the sauce later.\\n\\n6. Transfer the drained pasta back to the pot and add the prepared sauce. Mix well, ensuring that the pasta is evenly coated with the sauce. If the sauce is too thick, add a little bit of the reserved pasta water to thin it out.\\n\\n7. Serve the Italian pasta hot. You can garnish it with grated Parmesan cheese, fresh herbs, or a drizzle of olive oil, depending on your preference.\\n\\nEnjoy your homemade Italian pasta!\",\n",
      "            \"additional_kwargs\": {}\n",
      "          }\n",
      "        }\n",
      "      }\n",
      "    ]\n",
      "  ],\n",
      "  \"llm_output\": {\n",
      "    \"token_usage\": {\n",
      "      \"prompt_tokens\": 13,\n",
      "      \"completion_tokens\": 309,\n",
      "      \"total_tokens\": 322\n",
      "    },\n",
      "    \"model_name\": \"gpt-3.5-turbo\",\n",
      "    \"system_fingerprint\": null\n",
      "  },\n",
      "  \"run\": null\n",
      "}\n"
     ]
    },
    {
     "data": {
      "text/plain": [
       "'To make Italian pasta, follow these steps:\\n\\n1. Start by boiling a large pot of water. Add salt to the water to enhance the flavor of the pasta.\\n\\n2. Once the water is boiling, add the pasta to the pot. The amount of pasta depends on how many servings you want to make. Generally, 2 ounces (56 grams) of dried pasta per person is a good estimate.\\n\\n3. Cook the pasta according to the package instructions. Different types of pasta have different cooking times, so make sure to check the package for the recommended cooking time. Stir occasionally to prevent the pasta from sticking together.\\n\\n4. While the pasta is cooking, prepare the sauce. Italian pasta can be served with various sauces like tomato-based sauces, cream-based sauces, or olive oil-based sauces. Choose your preferred sauce and prepare it separately.\\n\\n5. Once the pasta is cooked al dente (cooked but still firm to the bite), drain it in a colander. Reserve a small amount of the pasta water, as it can be used to adjust the consistency of the sauce later.\\n\\n6. Transfer the drained pasta back to the pot and add the prepared sauce. Mix well, ensuring that the pasta is evenly coated with the sauce. If the sauce is too thick, add a little bit of the reserved pasta water to thin it out.\\n\\n7. Serve the Italian pasta hot. You can garnish it with grated Parmesan cheese, fresh herbs, or a drizzle of olive oil, depending on your preference.\\n\\nEnjoy your homemade Italian pasta!'"
      ]
     },
     "execution_count": 55,
     "metadata": {},
     "output_type": "execute_result"
    }
   ],
   "source": [
    "from langchain.chat_models import ChatOpenAI\n",
    "from langchain.callbacks import StreamingStdOutCallbackHandler\n",
    "from langchain.globals import set_llm_cache, set_debug\n",
    "from langchain.cache import InMemoryCache, SQLiteCache\n",
    "\n",
    "set_llm_cache(SQLiteCache(\"cache.db\"))\n",
    "set_debug(True)\n",
    "\n",
    "chat = ChatOpenAI(\n",
    "    temperature=0.1,\n",
    "    # streaming=True,\n",
    "    # callbacks=[\n",
    "    #     StreamingStdOutCallbackHandler(),\n",
    "    # ],\n",
    ")\n",
    "\n",
    "chat.predict(\"How do make Italian pasta?\")\n"
   ]
  }
 ],
 "metadata": {
  "kernelspec": {
   "display_name": "env",
   "language": "python",
   "name": "python3"
  },
  "language_info": {
   "codemirror_mode": {
    "name": "ipython",
    "version": 3
   },
   "file_extension": ".py",
   "mimetype": "text/x-python",
   "name": "python",
   "nbconvert_exporter": "python",
   "pygments_lexer": "ipython3",
   "version": "3.11.6"
  }
 },
 "nbformat": 4,
 "nbformat_minor": 2
}
