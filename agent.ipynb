{
 "cells": [
  {
   "cell_type": "code",
   "execution_count": 4,
   "metadata": {},
   "outputs": [
    {
     "name": "stdout",
     "output_type": "stream",
     "text": [
      "\n",
      "\n",
      "\u001b[1m> Entering new AgentExecutor chain...\u001b[0m\n",
      "\u001b[32;1m\u001b[1;3mTo calculate the sum of 123.123, 321.321, 234.234, and 432.432, I can use the Sum Calculator tool. \n",
      "\n",
      "Action:\n",
      "```{\"action\": \"Sum Calculator\", \"action_input\": {\"a\": 123.123, \"b\": 321.321}}```\n",
      "\n",
      "\u001b[0m\n",
      "Observation: \u001b[36;1m\u001b[1;3m444.444\u001b[0m\n",
      "Thought:\u001b[32;1m\u001b[1;3mThe sum of 123.123 and 321.321 is 444.444. Now let's calculate the sum of 234.234 and 432.432.\n",
      "\n",
      "Action:\n",
      "```{\"action\": \"Sum Calculator\", \"action_input\": {\"a\": 234.234, \"b\": 432.432}}```\u001b[0m\n",
      "Observation: \u001b[36;1m\u001b[1;3m666.666\u001b[0m\n",
      "Thought:\u001b[32;1m\u001b[1;3mThe sum of 234.234 and 432.432 is 666.666. Now let's calculate the sum of 444.444 and 666.666.\n",
      "\n",
      "Action:\n",
      "```{\"action\": \"Sum Calculator\", \"action_input\": {\"a\": 444.444, \"b\": 666.666}}```\u001b[0m\n",
      "Observation: \u001b[36;1m\u001b[1;3m1111.1100000000001\u001b[0m\n",
      "Thought:\u001b[32;1m\u001b[1;3mThe sum of 444.444 and 666.666 is 1111.1100000000001. \n",
      "\n",
      "Now let's calculate the sum of 123.123, 321.321, 234.234, and 432.432.\n",
      "\n",
      "Action:\n",
      "```{\"action\": \"Sum Calculator\", \"action_input\": {\"a\": 1111.1100000000001, \"b\": 123.123}}```\u001b[0m\n",
      "Observation: \u001b[36;1m\u001b[1;3m1234.2330000000002\u001b[0m\n",
      "Thought:\u001b[32;1m\u001b[1;3mThe sum of 123.123, 321.321, 234.234, and 432.432 is 1234.2330000000002.\u001b[0m\n",
      "\n",
      "\u001b[1m> Finished chain.\u001b[0m\n"
     ]
    },
    {
     "data": {
      "text/plain": [
       "{'input': 'Cost of 123.123 + 321.321 + 234.234 + 432.432',\n",
       " 'output': 'The sum of 123.123, 321.321, 234.234, and 432.432 is 1234.2330000000002.'}"
      ]
     },
     "execution_count": 4,
     "metadata": {},
     "output_type": "execute_result"
    }
   ],
   "source": [
    "from langchain.chat_models import ChatOpenAI\n",
    "from langchain.tools import StructuredTool\n",
    "from langchain.agents import initialize_agent, AgentType\n",
    "\n",
    "llm = ChatOpenAI(temperature=0.1)\n",
    "\n",
    "def plus(a,b):\n",
    "    return a+b\n",
    "\n",
    "prompt = \"Cost of 123.123 + 321.321 + 234.234 + 432.432\"\n",
    "\n",
    "agent = initialize_agent(\n",
    "    llm = llm, \n",
    "    verbose = True,\n",
    "    agent = AgentType.STRUCTURED_CHAT_ZERO_SHOT_REACT_DESCRIPTION,\n",
    "    tools =[\n",
    "        StructuredTool.from_function(\n",
    "            func=plus,\n",
    "            name=\"Sum Calculator\",\n",
    "            description=\"Use this to perform sums of two numbers. This tool takes two arguments, both should be numbers.\"\n",
    "        ),\n",
    "    ],\n",
    ")\n",
    "\n",
    "agent.invoke(prompt)\n"
   ]
  }
 ],
 "metadata": {
  "kernelspec": {
   "display_name": "env",
   "language": "python",
   "name": "python3"
  },
  "language_info": {
   "codemirror_mode": {
    "name": "ipython",
    "version": 3
   },
   "file_extension": ".py",
   "mimetype": "text/x-python",
   "name": "python",
   "nbconvert_exporter": "python",
   "pygments_lexer": "ipython3",
   "version": "3.11.6"
  }
 },
 "nbformat": 4,
 "nbformat_minor": 2
}
