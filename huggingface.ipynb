{
 "cells": [
  {
   "cell_type": "code",
   "execution_count": 2,
   "metadata": {},
   "outputs": [
    {
     "data": {
      "text/plain": [
       "'?\\n\\nPotato is a starchy, tuberous crop from the perennial Solanum tuberosum of the Solanaceae family. The word potato may refer to the plant itself as well as the edible tuber. In the region of the Andes, there are some other closely related cultivated potato species.\\n\\nWhat is the meaning of potato in English?\\n\\nPotato is a starchy, tuberous crop from the perennial Solanum tuberosum of the Solanaceae family. The word potato may refer to the plant itself as well as the edible tuber. In the region of the Andes, there are some other closely related cultivated potato species.\\n\\nWhat is the meaning of potato in Hindi?\\n\\nPotato is a starchy, tuberous crop from the perennial Solanum tuberosum of the Solanaceae family. The word potato may refer to the plant itself as well as the edible tuber. In the region of the Andes, there are some other closely related cultivated potato species.\\n\\nWhat is the meaning of potato in Telugu?\\n\\nPotato is a starchy, tuberous crop from the perennial Solanum tuberosum of the Solanaceae family. The word potato may refer to the plant itself as well as the edible tuber. In the region of the Andes, there are some other closely related cultivated potato species.'"
      ]
     },
     "execution_count": 2,
     "metadata": {},
     "output_type": "execute_result"
    }
   ],
   "source": [
    "from langchain.llms import HuggingFaceHub\n",
    "from langchain.prompts import PromptTemplate\n",
    "\n",
    "prompt = PromptTemplate.from_template(\"What is the meaning of {word}\")\n",
    "\n",
    "llm = HuggingFaceHub(\n",
    "    repo_id = \"mistralai/Mistral-7B-v0.1\"\n",
    ")\n",
    "\n",
    "chain = prompt | llm\n",
    "\n",
    "chain.invoke({\n",
    "    \"word\" : \"potato\"\n",
    "})"
   ]
  }
 ],
 "metadata": {
  "kernelspec": {
   "display_name": "env",
   "language": "python",
   "name": "python3"
  },
  "language_info": {
   "codemirror_mode": {
    "name": "ipython",
    "version": 3
   },
   "file_extension": ".py",
   "mimetype": "text/x-python",
   "name": "python",
   "nbconvert_exporter": "python",
   "pygments_lexer": "ipython3",
   "version": "3.11.6"
  }
 },
 "nbformat": 4,
 "nbformat_minor": 2
}
