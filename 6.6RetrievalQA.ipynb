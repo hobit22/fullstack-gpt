{
 "cells": [
  {
   "cell_type": "code",
   "execution_count": 9,
   "metadata": {},
   "outputs": [
    {
     "ename": "ValueError",
     "evalue": "Invalid file ./files/*. The FileType.UNK file type is not supported in partition.",
     "output_type": "error",
     "traceback": [
      "\u001b[1;31m---------------------------------------------------------------------------\u001b[0m",
      "\u001b[1;31mValueError\u001b[0m                                Traceback (most recent call last)",
      "\u001b[1;32mc:\\Users\\hoqei\\IdeaProjects\\fullstack-gpt\\6.2Tiktoken.ipynb Cell 1\u001b[0m line \u001b[0;36m1\n\u001b[0;32m      <a href='vscode-notebook-cell:/c%3A/Users/hoqei/IdeaProjects/fullstack-gpt/6.2Tiktoken.ipynb#W0sZmlsZQ%3D%3D?line=4'>5</a>\u001b[0m splitter \u001b[39m=\u001b[39m CharacterTextSplitter\u001b[39m.\u001b[39mfrom_tiktoken_encoder(\n\u001b[0;32m      <a href='vscode-notebook-cell:/c%3A/Users/hoqei/IdeaProjects/fullstack-gpt/6.2Tiktoken.ipynb#W0sZmlsZQ%3D%3D?line=5'>6</a>\u001b[0m     separator\u001b[39m=\u001b[39m\u001b[39m\"\u001b[39m\u001b[39m\\n\u001b[39;00m\u001b[39m\"\u001b[39m,\n\u001b[0;32m      <a href='vscode-notebook-cell:/c%3A/Users/hoqei/IdeaProjects/fullstack-gpt/6.2Tiktoken.ipynb#W0sZmlsZQ%3D%3D?line=6'>7</a>\u001b[0m     chunk_size\u001b[39m=\u001b[39m\u001b[39m600\u001b[39m,\n\u001b[0;32m      <a href='vscode-notebook-cell:/c%3A/Users/hoqei/IdeaProjects/fullstack-gpt/6.2Tiktoken.ipynb#W0sZmlsZQ%3D%3D?line=7'>8</a>\u001b[0m     chunk_overlap\u001b[39m=\u001b[39m\u001b[39m100\u001b[39m,\n\u001b[0;32m      <a href='vscode-notebook-cell:/c%3A/Users/hoqei/IdeaProjects/fullstack-gpt/6.2Tiktoken.ipynb#W0sZmlsZQ%3D%3D?line=8'>9</a>\u001b[0m )\n\u001b[0;32m     <a href='vscode-notebook-cell:/c%3A/Users/hoqei/IdeaProjects/fullstack-gpt/6.2Tiktoken.ipynb#W0sZmlsZQ%3D%3D?line=10'>11</a>\u001b[0m loader \u001b[39m=\u001b[39m UnstructuredFileLoader(\n\u001b[0;32m     <a href='vscode-notebook-cell:/c%3A/Users/hoqei/IdeaProjects/fullstack-gpt/6.2Tiktoken.ipynb#W0sZmlsZQ%3D%3D?line=11'>12</a>\u001b[0m     file_path\u001b[39m=\u001b[39m\u001b[39m\"\u001b[39m\u001b[39m./files/*\u001b[39m\u001b[39m\"\u001b[39m,\n\u001b[0;32m     <a href='vscode-notebook-cell:/c%3A/Users/hoqei/IdeaProjects/fullstack-gpt/6.2Tiktoken.ipynb#W0sZmlsZQ%3D%3D?line=12'>13</a>\u001b[0m     encoding\u001b[39m=\u001b[39m\u001b[39m'\u001b[39m\u001b[39mUTF-8\u001b[39m\u001b[39m'\u001b[39m\n\u001b[0;32m     <a href='vscode-notebook-cell:/c%3A/Users/hoqei/IdeaProjects/fullstack-gpt/6.2Tiktoken.ipynb#W0sZmlsZQ%3D%3D?line=13'>14</a>\u001b[0m )\n\u001b[1;32m---> <a href='vscode-notebook-cell:/c%3A/Users/hoqei/IdeaProjects/fullstack-gpt/6.2Tiktoken.ipynb#W0sZmlsZQ%3D%3D?line=15'>16</a>\u001b[0m loader\u001b[39m.\u001b[39;49mload_and_split(text_splitter\u001b[39m=\u001b[39;49msplitter)\n",
      "File \u001b[1;32mc:\\Users\\hoqei\\IdeaProjects\\fullstack-gpt\\env\\Lib\\site-packages\\langchain\\document_loaders\\base.py:43\u001b[0m, in \u001b[0;36mBaseLoader.load_and_split\u001b[1;34m(self, text_splitter)\u001b[0m\n\u001b[0;32m     41\u001b[0m \u001b[39melse\u001b[39;00m:\n\u001b[0;32m     42\u001b[0m     _text_splitter \u001b[39m=\u001b[39m text_splitter\n\u001b[1;32m---> 43\u001b[0m docs \u001b[39m=\u001b[39m \u001b[39mself\u001b[39;49m\u001b[39m.\u001b[39;49mload()\n\u001b[0;32m     44\u001b[0m \u001b[39mreturn\u001b[39;00m _text_splitter\u001b[39m.\u001b[39msplit_documents(docs)\n",
      "File \u001b[1;32mc:\\Users\\hoqei\\IdeaProjects\\fullstack-gpt\\env\\Lib\\site-packages\\langchain\\document_loaders\\unstructured.py:86\u001b[0m, in \u001b[0;36mUnstructuredBaseLoader.load\u001b[1;34m(self)\u001b[0m\n\u001b[0;32m     84\u001b[0m \u001b[39mdef\u001b[39;00m \u001b[39mload\u001b[39m(\u001b[39mself\u001b[39m) \u001b[39m-\u001b[39m\u001b[39m>\u001b[39m List[Document]:\n\u001b[0;32m     85\u001b[0m \u001b[39m    \u001b[39m\u001b[39m\"\"\"Load file.\"\"\"\u001b[39;00m\n\u001b[1;32m---> 86\u001b[0m     elements \u001b[39m=\u001b[39m \u001b[39mself\u001b[39;49m\u001b[39m.\u001b[39;49m_get_elements()\n\u001b[0;32m     87\u001b[0m     \u001b[39mself\u001b[39m\u001b[39m.\u001b[39m_post_process_elements(elements)\n\u001b[0;32m     88\u001b[0m     \u001b[39mif\u001b[39;00m \u001b[39mself\u001b[39m\u001b[39m.\u001b[39mmode \u001b[39m==\u001b[39m \u001b[39m\"\u001b[39m\u001b[39melements\u001b[39m\u001b[39m\"\u001b[39m:\n",
      "File \u001b[1;32mc:\\Users\\hoqei\\IdeaProjects\\fullstack-gpt\\env\\Lib\\site-packages\\langchain\\document_loaders\\unstructured.py:172\u001b[0m, in \u001b[0;36mUnstructuredFileLoader._get_elements\u001b[1;34m(self)\u001b[0m\n\u001b[0;32m    169\u001b[0m \u001b[39mdef\u001b[39;00m \u001b[39m_get_elements\u001b[39m(\u001b[39mself\u001b[39m) \u001b[39m-\u001b[39m\u001b[39m>\u001b[39m List:\n\u001b[0;32m    170\u001b[0m     \u001b[39mfrom\u001b[39;00m \u001b[39munstructured\u001b[39;00m\u001b[39m.\u001b[39;00m\u001b[39mpartition\u001b[39;00m\u001b[39m.\u001b[39;00m\u001b[39mauto\u001b[39;00m \u001b[39mimport\u001b[39;00m partition\n\u001b[1;32m--> 172\u001b[0m     \u001b[39mreturn\u001b[39;00m partition(filename\u001b[39m=\u001b[39;49m\u001b[39mself\u001b[39;49m\u001b[39m.\u001b[39;49mfile_path, \u001b[39m*\u001b[39;49m\u001b[39m*\u001b[39;49m\u001b[39mself\u001b[39;49m\u001b[39m.\u001b[39;49munstructured_kwargs)\n",
      "File \u001b[1;32mc:\\Users\\hoqei\\IdeaProjects\\fullstack-gpt\\env\\Lib\\site-packages\\unstructured\\partition\\auto.py:389\u001b[0m, in \u001b[0;36mpartition\u001b[1;34m(filename, content_type, file, file_filename, url, include_page_breaks, strategy, encoding, paragraph_grouper, headers, skip_infer_table_types, ssl_verify, ocr_languages, languages, pdf_infer_table_structure, xml_keep_tags, data_source_metadata, metadata_filename, **kwargs)\u001b[0m\n\u001b[0;32m    387\u001b[0m \u001b[39melse\u001b[39;00m:\n\u001b[0;32m    388\u001b[0m     msg \u001b[39m=\u001b[39m \u001b[39m\"\u001b[39m\u001b[39mInvalid file\u001b[39m\u001b[39m\"\u001b[39m \u001b[39mif\u001b[39;00m \u001b[39mnot\u001b[39;00m filename \u001b[39melse\u001b[39;00m \u001b[39mf\u001b[39m\u001b[39m\"\u001b[39m\u001b[39mInvalid file \u001b[39m\u001b[39m{\u001b[39;00mfilename\u001b[39m}\u001b[39;00m\u001b[39m\"\u001b[39m\n\u001b[1;32m--> 389\u001b[0m     \u001b[39mraise\u001b[39;00m \u001b[39mValueError\u001b[39;00m(\u001b[39mf\u001b[39m\u001b[39m\"\u001b[39m\u001b[39m{\u001b[39;00mmsg\u001b[39m}\u001b[39;00m\u001b[39m. The \u001b[39m\u001b[39m{\u001b[39;00mfiletype\u001b[39m}\u001b[39;00m\u001b[39m file type is not supported in partition.\u001b[39m\u001b[39m\"\u001b[39m)\n\u001b[0;32m    391\u001b[0m \u001b[39mfor\u001b[39;00m element \u001b[39min\u001b[39;00m elements:\n\u001b[0;32m    392\u001b[0m     element\u001b[39m.\u001b[39mmetadata\u001b[39m.\u001b[39murl \u001b[39m=\u001b[39m url\n",
      "\u001b[1;31mValueError\u001b[0m: Invalid file ./files/*. The FileType.UNK file type is not supported in partition."
     ]
    }
   ],
   "source": [
    "from langchain.chat_models import ChatOpenAI\n",
    "from langchain.document_loaders import UnstructuredFileLoader\n",
    "from langchain.text_splitter import CharacterTextSplitter\n",
    "\n",
    "splitter = CharacterTextSplitter.from_tiktoken_encoder(\n",
    "    separator=\"\\n\",\n",
    "    chunk_size=600,\n",
    "    chunk_overlap=100,\n",
    ")\n",
    "\n",
    "loader = UnstructuredFileLoader(\n",
    "    file_path=\"./files/1_2_1_Bind_runtime_args.txt\",\n",
    "    encoding='UTF-8'\n",
    ")\n",
    "\n",
    "loader.load_and_split(text_splitter=splitter)\n",
    "\n"
   ]
  },
  {
   "cell_type": "code",
   "execution_count": null,
   "metadata": {},
   "outputs": [],
   "source": [
    "from langchain.chat_models import ChatOpenAI\n",
    "from langchain.document_loaders import UnstructuredFileLoader\n",
    "from langchain.text_splitter import CharacterTextSplitter\n",
    "\n",
    "splitter = CharacterTextSplitter.from_tiktoken_encoder(\n",
    "    separator=\"\\n\",\n",
    "    chunk_size=600,\n",
    "    chunk_overlap=100,\n",
    ")\n",
    "\n",
    "loader = UnstructuredFileLoader(\n",
    "    file_path=\"./files/*\",\n",
    "    encoding='UTF-8'\n",
    ")\n",
    "\n",
    "loader.load_and_split(text_splitter=splitter)\n",
    "\n"
   ]
  }
 ],
 "metadata": {
  "kernelspec": {
   "display_name": "env",
   "language": "python",
   "name": "python3"
  },
  "language_info": {
   "codemirror_mode": {
    "name": "ipython",
    "version": 3
   },
   "file_extension": ".py",
   "mimetype": "text/x-python",
   "name": "python",
   "nbconvert_exporter": "python",
   "pygments_lexer": "ipython3",
   "version": "3.11.6"
  }
 },
 "nbformat": 4,
 "nbformat_minor": 2
}
