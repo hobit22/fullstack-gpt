{
 "cells": [
  {
   "cell_type": "code",
   "execution_count": 13,
   "metadata": {},
   "outputs": [
    {
     "name": "stdout",
     "output_type": "stream",
     "text": [
      "\n",
      "\n",
      "\u001b[1m> Entering new AgentExecutor chain...\u001b[0m\n",
      "\u001b[32;1m\u001b[1;3mI need to calculate the sum of these numbers.\n",
      "Action: Sum Calculator\n",
      "Action Input: 123.123, 321.321\u001b[0m\n",
      "Observation: \u001b[36;1m\u001b[1;3m444.444\u001b[0m\n",
      "Thought:\u001b[32;1m\u001b[1;3mI have the sum of the first two numbers. Now I need to add the next number.\n",
      "Action: Sum Calculator\n",
      "Action Input: 444.444, 234.234\u001b[0m\n",
      "Observation: \u001b[36;1m\u001b[1;3m678.678\u001b[0m\n",
      "Thought:\u001b[32;1m\u001b[1;3mI have the sum of the first three numbers. Now I need to add the last number.\n",
      "Action: Sum Calculator\n",
      "Action Input: 678.678, 432.432\u001b[0m\n",
      "Observation: \u001b[36;1m\u001b[1;3m1111.1100000000001\u001b[0m\n",
      "Thought:\u001b[32;1m\u001b[1;3mI now know the final answer\n",
      "Final Answer: The cost of 123.123 + 321.321 + 234.234 + 432.432 is 1111.1100000000001\u001b[0m\n",
      "\n",
      "\u001b[1m> Finished chain.\u001b[0m\n"
     ]
    },
    {
     "data": {
      "text/plain": [
       "{'input': 'Cost of 123.123 + 321.321 + 234.234 + 432.432',\n",
       " 'output': 'The cost of 123.123 + 321.321 + 234.234 + 432.432 is 1111.1100000000001'}"
      ]
     },
     "execution_count": 13,
     "metadata": {},
     "output_type": "execute_result"
    }
   ],
   "source": [
    "from langchain.chat_models import ChatOpenAI\n",
    "from langchain.tools import StructuredTool, Tool\n",
    "from langchain.agents import initialize_agent, AgentType\n",
    "\n",
    "llm = ChatOpenAI(temperature=0.1)\n",
    "\n",
    "def plus(input):\n",
    "    a, b = input.split(\",\")\n",
    "    return float(a) + float(b)\n",
    "\n",
    "prompt = \"Cost of 123.123 + 321.321 + 234.234 + 432.432\"\n",
    "\n",
    "agent = initialize_agent(\n",
    "    llm = llm, \n",
    "    verbose = True,\n",
    "    agent = AgentType.ZERO_SHOT_REACT_DESCRIPTION,\n",
    "    handle_parsing_errors=True,\n",
    "    tools =[\n",
    "        Tool.from_function(\n",
    "            func=plus,\n",
    "            name=\"Sum Calculator\",\n",
    "            description=\"Use this to perform sums of two numbers. Use this toll by sending a pair of number seperated by a comma. \\nExample : 1,2\"\n",
    "        ),\n",
    "    ],\n",
    ")\n",
    "\n",
    "agent.invoke(prompt)\n"
   ]
  }
 ],
 "metadata": {
  "kernelspec": {
   "display_name": "env",
   "language": "python",
   "name": "python3"
  },
  "language_info": {
   "codemirror_mode": {
    "name": "ipython",
    "version": 3
   },
   "file_extension": ".py",
   "mimetype": "text/x-python",
   "name": "python",
   "nbconvert_exporter": "python",
   "pygments_lexer": "ipython3",
   "version": "3.11.6"
  }
 },
 "nbformat": 4,
 "nbformat_minor": 2
}
